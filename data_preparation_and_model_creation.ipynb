{
 "cells": [
  {
   "cell_type": "code",
   "execution_count": 108,
   "id": "ad271738",
   "metadata": {},
   "outputs": [],
   "source": [
    "import yfinance as yf\n",
    "import pandas as pd\n",
    "import pandas_ta as ta\n",
    "import numpy as np\n",
    "from functools import reduce\n",
    "from sklearn.preprocessing import StandardScaler\n",
    "from tensorflow.keras.models import Sequential\n",
    "from tensorflow.keras.layers import Dense\n",
    "from sklearn.metrics import confusion_matrix, ConfusionMatrixDisplay\n",
    "import matplotlib.pyplot as plt\n",
    "from sklearn.metrics import mean_squared_error, mean_absolute_error, r2_score"
   ]
  },
  {
   "cell_type": "code",
   "execution_count": 79,
   "id": "39cccce4",
   "metadata": {},
   "outputs": [
    {
     "name": "stdout",
     "output_type": "stream",
     "text": [
      "[*********************100%***********************]  1 of 1 completed\n",
      "[*********************100%***********************]  1 of 1 completed\n",
      "[*********************100%***********************]  1 of 1 completed\n",
      "[*********************100%***********************]  1 of 1 completed\n",
      "[*********************100%***********************]  1 of 1 completed\n",
      "[*********************100%***********************]  1 of 1 completed\n",
      "[*********************100%***********************]  1 of 1 completed\n",
      "[*********************100%***********************]  1 of 1 completed\n"
     ]
    }
   ],
   "source": [
    "tickers = [\"AMJ\",\"XLY\",\"XLB\",\"^GSPC\",\"^DJI\",\"^IXIC\",\"^NYA\",\"^RUT\"]\n",
    "start_date = \"2018-08-19\"\n",
    "end_date = \"2023-09-30\"\n",
    "etf_data = {}\n",
    "for ticker in tickers:\n",
    "    data = yf.download(ticker, start=start_date, end=end_date)\n",
    "    \n",
    "    etf_data[ticker] = data\n",
    "\n",
    "    \n",
    "# ETF data frames\n",
    "amj_df = etf_data[\"AMJ\"]\n",
    "xly_df = etf_data[\"XLY\"]\n",
    "xlb_df = etf_data[\"XLB\"]\n",
    "\n",
    "# Index data frames\n",
    "gspc_df = etf_data[\"^GSPC\"]\n",
    "dji_df = etf_data[\"^DJI\"]\n",
    "ixic_df = etf_data[\"^IXIC\"]\n",
    "nya_df = etf_data[\"^NYA\"]\n",
    "rut_df = etf_data[\"^RUT\"]\n",
    "\n",
    "dji_df = dji_df.rename(columns={'Adj Close': 'DJI_Adj Close', 'Close': 'DJI_Close', 'High': 'DJI_High', 'Low': 'DJI_Low', 'Open': 'DJI_Open','Volume': 'DJI_Volume'})\n",
    "gspc_df = gspc_df.rename(columns={'Adj Close': 'GSPC_Adj Close', 'Close': 'GSPC_Close', 'High': 'GSPC_High', 'Low': 'GSPC_Low', 'Open': 'GSPC_Open','Volume': 'GSPC_Volume'})\n",
    "ixic_df = ixic_df.rename(columns={'Adj Close': 'IXIC_Adj Close', 'Close': 'IXIC_Close', 'High': 'IXIC_High', 'Low': 'IXIC_Low', 'Open': 'IXIC_Open','Volume': 'IXIC_Volume'})\n",
    "nya_df = nya_df.rename(columns={'Adj Close': 'NYA_Adj Close', 'Close': 'NYA_Close', 'High': 'NYA_High', 'Low': 'NYA_Low', 'Open': 'NYA_Open','Volume': 'NYA_Volume'})\n",
    "rut_df = rut_df.rename(columns={'Adj Close': 'RUT_Adj Close', 'Close': 'RUT_Close', 'High': 'RUT_High', 'Low': 'RUT_Low', 'Open': 'RUT_Open','Volume': 'RUT_Volume'})"
   ]
  },
  {
   "cell_type": "code",
   "execution_count": 80,
   "id": "328e20ec",
   "metadata": {
    "scrolled": true
   },
   "outputs": [
    {
     "data": {
      "text/plain": [
       "{'AMJ':                  Open       High        Low      Close  Adj Close   Volume\n",
       " Date                                                                      \n",
       " 2018-08-20  29.200001  29.549999  29.190001  29.510000  19.672085  1523300\n",
       " 2018-08-21  29.510000  29.610001  29.230000  29.230000  19.485430  1050600\n",
       " 2018-08-22  29.430000  29.559999  28.809999  29.520000  19.678753  1565700\n",
       " 2018-08-23  29.410000  29.540001  29.320000  29.540001  19.692085   742500\n",
       " 2018-08-24  29.469999  29.490000  29.260000  29.410000  19.605423  1288600\n",
       " ...               ...        ...        ...        ...        ...      ...\n",
       " 2023-09-25  24.580000  24.870001  24.370001  24.719999  24.719999   710800\n",
       " 2023-09-26  24.559999  24.600000  24.270000  24.299999  24.299999   181400\n",
       " 2023-09-27  24.389999  24.660000  24.389999  24.600000  24.600000   384100\n",
       " 2023-09-28  24.400000  24.879999  24.400000  24.870001  24.870001   604400\n",
       " 2023-09-29  24.950001  24.950001  24.639999  24.700001  24.700001   275000\n",
       " \n",
       " [1287 rows x 6 columns],\n",
       " 'XLY':                   Open        High         Low       Close   Adj Close  \\\n",
       " Date                                                                     \n",
       " 2018-08-20  112.889999  113.370003  112.580002  113.309998  107.454163   \n",
       " 2018-08-21  113.639999  114.589996  113.589996  114.209999  108.307686   \n",
       " 2018-08-22  114.220001  114.889999  114.199997  114.330002  108.421478   \n",
       " 2018-08-23  114.419998  114.839996  114.010002  114.220001  108.317146   \n",
       " 2018-08-24  114.440002  115.029999  114.260002  114.889999  108.952538   \n",
       " ...                ...         ...         ...         ...         ...   \n",
       " 2023-09-25  160.270004  162.259995  159.869995  161.919998  161.919998   \n",
       " 2023-09-26  160.449997  161.440002  158.619995  158.970001  158.970001   \n",
       " 2023-09-27  159.389999  159.910004  156.740005  158.360001  158.360001   \n",
       " 2023-09-28  157.779999  160.589996  157.380005  160.130005  160.130005   \n",
       " 2023-09-29  162.460007  163.080002  160.089996  160.979996  160.979996   \n",
       " \n",
       "              Volume  \n",
       " Date                 \n",
       " 2018-08-20  6569300  \n",
       " 2018-08-21  4171300  \n",
       " 2018-08-22  2757400  \n",
       " 2018-08-23  3994500  \n",
       " 2018-08-24  5259300  \n",
       " ...             ...  \n",
       " 2023-09-25  4743400  \n",
       " 2023-09-26  5833500  \n",
       " 2023-09-27  6242500  \n",
       " 2023-09-28  5145900  \n",
       " 2023-09-29  6558300  \n",
       " \n",
       " [1287 rows x 6 columns],\n",
       " 'XLB':                  Open       High        Low      Close  Adj Close   Volume\n",
       " Date                                                                      \n",
       " 2018-08-20  58.540001  58.950001  58.540001  58.840000  52.784801  4841500\n",
       " 2018-08-21  58.959999  59.340000  58.860001  59.070000  52.991131  4958000\n",
       " 2018-08-22  59.040001  59.139999  58.700001  58.770000  52.722004  5432700\n",
       " 2018-08-23  58.650002  58.650002  58.209999  58.369999  52.363167  4442000\n",
       " 2018-08-24  58.680000  59.209999  58.619999  59.130001  53.044968  4951600\n",
       " ...               ...        ...        ...        ...        ...      ...\n",
       " 2023-09-25  78.070000  79.029999  78.019997  78.989998  78.989998  4122800\n",
       " 2023-09-26  78.510002  78.930000  77.629997  77.849998  77.849998  5475900\n",
       " 2023-09-27  78.239998  78.349998  77.379997  77.839996  77.839996  5516000\n",
       " 2023-09-28  77.980003  78.959999  77.980003  78.680000  78.680000  4699100\n",
       " 2023-09-29  79.430000  79.440002  78.339996  78.550003  78.550003  5857200\n",
       " \n",
       " [1287 rows x 6 columns],\n",
       " '^GSPC':                    Open         High          Low        Close    Adj Close  \\\n",
       " Date                                                                          \n",
       " 2018-08-20  2853.929932  2859.760010  2850.620117  2857.050049  2857.050049   \n",
       " 2018-08-21  2861.510010  2873.229980  2861.320068  2862.959961  2862.959961   \n",
       " 2018-08-22  2860.989990  2867.540039  2856.050049  2861.820068  2861.820068   \n",
       " 2018-08-23  2860.290039  2868.780029  2854.030029  2856.979980  2856.979980   \n",
       " 2018-08-24  2862.350098  2876.159912  2862.350098  2874.689941  2874.689941   \n",
       " ...                 ...          ...          ...          ...          ...   \n",
       " 2023-09-25  4310.620117  4338.509766  4302.700195  4337.439941  4337.439941   \n",
       " 2023-09-26  4312.879883  4313.009766  4265.979980  4273.529785  4273.529785   \n",
       " 2023-09-27  4282.629883  4292.069824  4238.629883  4274.509766  4274.509766   \n",
       " 2023-09-28  4269.649902  4317.270020  4264.379883  4299.700195  4299.700195   \n",
       " 2023-09-29  4328.180176  4333.149902  4274.859863  4288.049805  4288.049805   \n",
       " \n",
       "                 Volume  \n",
       " Date                    \n",
       " 2018-08-20  2757150000  \n",
       " 2018-08-21  3174010000  \n",
       " 2018-08-22  2701250000  \n",
       " 2018-08-23  2724450000  \n",
       " 2018-08-24  2603010000  \n",
       " ...                ...  \n",
       " 2023-09-25  3195650000  \n",
       " 2023-09-26  3472340000  \n",
       " 2023-09-27  3875880000  \n",
       " 2023-09-28  3846230000  \n",
       " 2023-09-29  3865960000  \n",
       " \n",
       " [1287 rows x 6 columns],\n",
       " '^DJI':                     Open          High           Low         Close  \\\n",
       " Date                                                                 \n",
       " 2018-08-20  25727.699219  25790.169922  25716.410156  25758.689453   \n",
       " 2018-08-21  25786.990234  25888.820312  25784.900391  25822.289062   \n",
       " 2018-08-22  25825.060547  25836.160156  25722.429688  25733.599609   \n",
       " 2018-08-23  25714.859375  25762.560547  25608.019531  25656.980469   \n",
       " 2018-08-24  25688.580078  25826.050781  25688.580078  25790.349609   \n",
       " ...                  ...           ...           ...           ...   \n",
       " 2023-09-25  33907.589844  34017.531250  33780.671875  34006.878906   \n",
       " 2023-09-26  33862.679688  33879.929688  33569.601562  33618.878906   \n",
       " 2023-09-27  33682.808594  33731.648438  33306.300781  33550.269531   \n",
       " 2023-09-28  33519.441406  33777.898438  33473.500000  33666.339844   \n",
       " 2023-09-29  33882.609375  33893.679688  33407.449219  33507.500000   \n",
       " \n",
       "                Adj Close     Volume  \n",
       " Date                                 \n",
       " 2018-08-20  25758.689453  248570000  \n",
       " 2018-08-21  25822.289062  241620000  \n",
       " 2018-08-22  25733.599609  200480000  \n",
       " 2018-08-23  25656.980469  213270000  \n",
       " 2018-08-24  25790.349609  200330000  \n",
       " ...                  ...        ...  \n",
       " 2023-09-25  34006.878906  229450000  \n",
       " 2023-09-26  33618.878906  280100000  \n",
       " 2023-09-27  33550.269531  300330000  \n",
       " 2023-09-28  33666.339844  275610000  \n",
       " 2023-09-29  33507.500000  319830000  \n",
       " \n",
       " [1287 rows x 6 columns],\n",
       " '^IXIC':                     Open          High           Low         Close  \\\n",
       " Date                                                                 \n",
       " 2018-08-20   7834.370117   7837.140137   7787.899902   7821.009766   \n",
       " 2018-08-21   7840.089844   7897.680176   7836.790039   7859.169922   \n",
       " 2018-08-22   7844.040039   7897.629883   7840.839844   7889.100098   \n",
       " 2018-08-23   7886.470215   7926.319824   7866.529785   7878.459961   \n",
       " 2018-08-24   7907.810059   7949.709961   7907.100098   7945.979980   \n",
       " ...                  ...           ...           ...           ...   \n",
       " 2023-09-25  13172.540039  13277.830078  13132.000000  13271.320312   \n",
       " 2023-09-26  13180.959961  13199.129883  13033.400391  13063.610352   \n",
       " 2023-09-27  13115.360352  13156.370117  12963.160156  13092.849609   \n",
       " 2023-09-28  13043.370117  13270.969727  13025.110352  13201.280273   \n",
       " 2023-09-29  13337.709961  13382.980469  13177.089844  13219.320312   \n",
       " \n",
       "                Adj Close      Volume  \n",
       " Date                                  \n",
       " 2018-08-20   7821.009766  1709500000  \n",
       " 2018-08-21   7859.169922  1788860000  \n",
       " 2018-08-22   7889.100098  1669240000  \n",
       " 2018-08-23   7878.459961  1888600000  \n",
       " 2018-08-24   7945.979980  1892990000  \n",
       " ...                  ...         ...  \n",
       " 2023-09-25  13271.320312  4100290000  \n",
       " 2023-09-26  13063.610352  4693540000  \n",
       " 2023-09-27  13092.849609  4841410000  \n",
       " 2023-09-28  13201.280273  4648390000  \n",
       " 2023-09-29  13219.320312  5138500000  \n",
       " \n",
       " [1287 rows x 6 columns],\n",
       " '^NYA':                     Open          High           Low         Close  \\\n",
       " Date                                                                 \n",
       " 2018-08-20  12930.150391  12973.559570  12929.429688  12965.099609   \n",
       " 2018-08-21  12998.040039  13032.250000  12993.950195  12996.759766   \n",
       " 2018-08-22  13007.570312  13013.059570  12983.019531  12990.509766   \n",
       " 2018-08-23  12978.589844  12988.209961  12922.839844  12933.459961   \n",
       " 2018-08-24  12968.820312  13011.690430  12964.299805  12999.440430   \n",
       " ...                  ...           ...           ...           ...   \n",
       " 2023-09-25  15569.509766  15597.650391  15491.230469  15593.730469   \n",
       " 2023-09-26  15593.730469  15593.730469  15371.750000  15381.580078   \n",
       " 2023-09-27  15381.580078  15454.120117  15288.450195  15394.690430   \n",
       " 2023-09-28  15394.690430  15526.330078  15390.250000  15478.070312   \n",
       " 2023-09-29  15478.070312  15572.169922  15364.990234  15398.209961   \n",
       " \n",
       "                Adj Close      Volume  \n",
       " Date                                  \n",
       " 2018-08-20  12965.099609  2757150000  \n",
       " 2018-08-21  12996.759766  3174010000  \n",
       " 2018-08-22  12990.509766  2701250000  \n",
       " 2018-08-23  12933.459961  2724450000  \n",
       " 2018-08-24  12999.440430  2603010000  \n",
       " ...                  ...         ...  \n",
       " 2023-09-25  15593.730469  3195650000  \n",
       " 2023-09-26  15381.580078  3472340000  \n",
       " 2023-09-27  15394.690430  3875880000  \n",
       " 2023-09-28  15478.070312  3846230000  \n",
       " 2023-09-29  15398.209961  3865960000  \n",
       " \n",
       " [1287 rows x 6 columns],\n",
       " '^RUT':                    Open         High          Low        Close    Adj Close  \\\n",
       " Date                                                                          \n",
       " 2018-08-20  1693.790039  1701.130005  1690.180054  1698.689941  1698.689941   \n",
       " 2018-08-21  1698.910034  1722.290039  1698.910034  1718.050049  1718.050049   \n",
       " 2018-08-22  1717.750000  1723.010010  1715.800049  1722.540039  1722.540039   \n",
       " 2018-08-23  1722.300049  1723.410034  1712.920044  1717.050049  1717.050049   \n",
       " 2018-08-24  1718.359985  1726.969971  1718.359985  1725.670044  1725.670044   \n",
       " ...                 ...          ...          ...          ...          ...   \n",
       " 2023-09-25  1768.670044  1788.030029  1766.540039  1784.239990  1784.239990   \n",
       " 2023-09-26  1774.640015  1786.050049  1761.609985  1761.609985  1761.609985   \n",
       " 2023-09-27  1771.160034  1786.599976  1765.640015  1778.900024  1778.900024   \n",
       " 2023-09-28  1778.030029  1802.609985  1777.890015  1794.310059  1794.310059   \n",
       " 2023-09-29  1805.469971  1809.689941  1781.050049  1785.099976  1785.099976   \n",
       " \n",
       "                 Volume  \n",
       " Date                    \n",
       " 2018-08-20  2757150000  \n",
       " 2018-08-21  3174010000  \n",
       " 2018-08-22  2701250000  \n",
       " 2018-08-23  2724450000  \n",
       " 2018-08-24  2603010000  \n",
       " ...                ...  \n",
       " 2023-09-25  3195650000  \n",
       " 2023-09-26  3472340000  \n",
       " 2023-09-27  3875880000  \n",
       " 2023-09-28  3846230000  \n",
       " 2023-09-29  3865960000  \n",
       " \n",
       " [1287 rows x 6 columns]}"
      ]
     },
     "execution_count": 80,
     "metadata": {},
     "output_type": "execute_result"
    }
   ],
   "source": [
    "etf_data"
   ]
  },
  {
   "cell_type": "code",
   "execution_count": 82,
   "id": "a9816250",
   "metadata": {},
   "outputs": [],
   "source": [
    "def analytical_inferences(etf_data):\n",
    "    '''\n",
    "    Function calculates all inferences possible like RSI, EMA, SMA. \n",
    "    Input: 1 data frame containing ETF data \n",
    "    Output: The data frame with all calculated values for the particular ETF.\n",
    "    '''\n",
    "    rsi_period = 14\n",
    "    # Calculate RSI\n",
    "    etf_data['RSI'] = ta.rsi(etf_data['Adj Close'], length=rsi_period)\n",
    "\n",
    "    # Calculate overbought/oversold conditions\n",
    "    etf_data['Overbought'] = (etf_data['RSI'] > 70).astype(int)\n",
    "    etf_data['Oversold'] = (etf_data['RSI'] < 30).astype(int)\n",
    "    \n",
    "    # Calculate divergence between price and RSI\n",
    "    etf_data['Price_RSI_Divergence'] = etf_data['Close'].diff() - etf_data['RSI'].diff()\n",
    "    \n",
    "    # Calculate rate of change of RSI\n",
    "    etf_data['ROC_RSI'] = etf_data['RSI'].pct_change() * 100\n",
    "    \n",
    "    # Calculate RSI trend confirmation\n",
    "    etf_data['RSI_Trend_Confirmation'] = (etf_data['RSI'] > etf_data['RSI'].shift(1)).astype(int)\n",
    "    \n",
    "    # Assuming 'Close' is the column containing closing prices\n",
    "    etf_data['EMA'] = ta.ema(etf_data['Close'], length=14)  # Adjust the period as needed\n",
    "    \n",
    "    # Feature 1: EMA over a specific period\n",
    "    # Already calculated and stored in 'EMA' column\n",
    "    \n",
    "    # Feature 2: Difference between current price and EMA\n",
    "    etf_data['Price_EMA_Difference'] = etf_data['Close'] - etf_data['EMA']\n",
    "    \n",
    "    # Feature 3: Slope of EMA\n",
    "    etf_data['Slope_EMA'] = ta.slope(etf_data['EMA'])\n",
    "    \n",
    "    # Feature 4: EMA convergence or divergence\n",
    "    etf_data['EMA_Convergence'] = (etf_data['Close'] > etf_data['EMA']).astype(int)\n",
    "    etf_data['EMA_Divergence'] = (etf_data['Close'] < etf_data['EMA']).astype(int)\n",
    "    \n",
    "    # Feature 5: Rate of change of EMA\n",
    "    etf_data['ROC_EMA'] = etf_data['EMA'].pct_change() * 100\n",
    "    \n",
    "    # Assuming 'Close' is the column containing closing prices\n",
    "    etf_data['SMA'] = ta.sma(etf_data['Close'], length=14)  # Adjust the period as needed\n",
    "    \n",
    "    # Feature 1: SMA over a specific period\n",
    "    # Already calculated and stored in 'SMA' column\n",
    "    \n",
    "    # Feature 2: Difference between current price and SMA\n",
    "    etf_data['Price_SMA_Difference'] = etf_data['Close'] - etf_data['SMA']\n",
    "    \n",
    "    # Feature 3: Slope of SMA\n",
    "    etf_data['Slope_SMA'] = ta.slope(etf_data['SMA'])\n",
    "    \n",
    "    # Feature 4: SMA convergence or divergence\n",
    "    etf_data['SMA_Convergence'] = (etf_data['Close'] > etf_data['SMA']).astype(int)\n",
    "    etf_data['SMA_Divergence'] = (etf_data['Close'] < etf_data['SMA']).astype(int)\n",
    "    \n",
    "    # Feature 5: Rate of change of SMA\n",
    "    etf_data['ROC_SMA'] = etf_data['SMA'].pct_change() * 100\n",
    "    \n",
    "    dmi = ta.adx(etf_data.High, etf_data.Low, etf_data.Close)\n",
    "    etf_data['ADX']=dmi['ADX_14']\n",
    "    etf_data['DMI+']=dmi['DMP_14']\n",
    "    etf_data['DMI-']=dmi['DMN_14']\n",
    "    # Calculate ADX trend strength\n",
    "    etf_data['ADX_Trend_Strength'] = etf_data['ADX'].rolling(window=3).mean()  # Adjust the rolling window parameter\n",
    "    \n",
    "    # Calculate DI convergence or divergence\n",
    "    etf_data['DI_Convergence_Divergence'] = etf_data['DMI+'] - etf_data['DMI-']  # Adjust the length parameter\n",
    "    return etf_data"
   ]
  },
  {
   "cell_type": "code",
   "execution_count": 83,
   "id": "6c00ef46",
   "metadata": {},
   "outputs": [],
   "source": [
    "amj_df = analytical_inferences(amj_df)\n",
    "xly_df = analytical_inferences(xly_df)\n",
    "xlb_df = analytical_inferences(xlb_df)"
   ]
  },
  {
   "cell_type": "code",
   "execution_count": 84,
   "id": "db1f7a60",
   "metadata": {},
   "outputs": [],
   "source": [
    "amj_combined_df = pd.DataFrame(reduce(lambda left, right: pd.merge(left, right, on='Date', how='outer'), [amj_df, dji_df, gspc_df, ixic_df, nya_df, rut_df]))\n",
    "xly_combined_df = pd.DataFrame(reduce(lambda left, right: pd.merge(left, right, on='Date', how='outer'), [xly_df, dji_df, gspc_df, ixic_df, nya_df, rut_df]))\n",
    "xlb_combined_df = pd.DataFrame(reduce(lambda left, right: pd.merge(left, right, on='Date', how='outer'), [xlb_df, dji_df, gspc_df, ixic_df, nya_df, rut_df]))"
   ]
  },
  {
   "cell_type": "code",
   "execution_count": 85,
   "id": "d08b3787",
   "metadata": {},
   "outputs": [
    {
     "name": "stdout",
     "output_type": "stream",
     "text": [
      "<class 'pandas.core.frame.DataFrame'>\n",
      "DatetimeIndex: 1287 entries, 2018-08-20 to 2023-09-29\n",
      "Data columns (total 59 columns):\n",
      " #   Column                     Non-Null Count  Dtype  \n",
      "---  ------                     --------------  -----  \n",
      " 0   Open                       1287 non-null   float64\n",
      " 1   High                       1287 non-null   float64\n",
      " 2   Low                        1287 non-null   float64\n",
      " 3   Close                      1287 non-null   float64\n",
      " 4   Adj Close                  1287 non-null   float64\n",
      " 5   Volume                     1287 non-null   int64  \n",
      " 6   RSI                        1273 non-null   float64\n",
      " 7   Overbought                 1287 non-null   int32  \n",
      " 8   Oversold                   1287 non-null   int32  \n",
      " 9   Price_RSI_Divergence       1272 non-null   float64\n",
      " 10  ROC_RSI                    1272 non-null   float64\n",
      " 11  RSI_Trend_Confirmation     1287 non-null   int32  \n",
      " 12  EMA                        1274 non-null   float64\n",
      " 13  Price_EMA_Difference       1274 non-null   float64\n",
      " 14  Slope_EMA                  1273 non-null   float64\n",
      " 15  EMA_Convergence            1287 non-null   int32  \n",
      " 16  EMA_Divergence             1287 non-null   int32  \n",
      " 17  ROC_EMA                    1273 non-null   float64\n",
      " 18  SMA                        1274 non-null   float64\n",
      " 19  Price_SMA_Difference       1274 non-null   float64\n",
      " 20  Slope_SMA                  1273 non-null   float64\n",
      " 21  SMA_Convergence            1287 non-null   int32  \n",
      " 22  SMA_Divergence             1287 non-null   int32  \n",
      " 23  ROC_SMA                    1273 non-null   float64\n",
      " 24  ADX                        1260 non-null   float64\n",
      " 25  DMI+                       1273 non-null   float64\n",
      " 26  DMI-                       1273 non-null   float64\n",
      " 27  ADX_Trend_Strength         1258 non-null   float64\n",
      " 28  DI_Convergence_Divergence  1273 non-null   float64\n",
      " 29  DJI_Open                   1287 non-null   float64\n",
      " 30  DJI_High                   1287 non-null   float64\n",
      " 31  DJI_Low                    1287 non-null   float64\n",
      " 32  DJI_Close                  1287 non-null   float64\n",
      " 33  DJI_Adj Close              1287 non-null   float64\n",
      " 34  DJI_Volume                 1287 non-null   int64  \n",
      " 35  GSPC_Open                  1287 non-null   float64\n",
      " 36  GSPC_High                  1287 non-null   float64\n",
      " 37  GSPC_Low                   1287 non-null   float64\n",
      " 38  GSPC_Close                 1287 non-null   float64\n",
      " 39  GSPC_Adj Close             1287 non-null   float64\n",
      " 40  GSPC_Volume                1287 non-null   int64  \n",
      " 41  IXIC_Open                  1287 non-null   float64\n",
      " 42  IXIC_High                  1287 non-null   float64\n",
      " 43  IXIC_Low                   1287 non-null   float64\n",
      " 44  IXIC_Close                 1287 non-null   float64\n",
      " 45  IXIC_Adj Close             1287 non-null   float64\n",
      " 46  IXIC_Volume                1287 non-null   int64  \n",
      " 47  NYA_Open                   1287 non-null   float64\n",
      " 48  NYA_High                   1287 non-null   float64\n",
      " 49  NYA_Low                    1287 non-null   float64\n",
      " 50  NYA_Close                  1287 non-null   float64\n",
      " 51  NYA_Adj Close              1287 non-null   float64\n",
      " 52  NYA_Volume                 1287 non-null   int64  \n",
      " 53  RUT_Open                   1287 non-null   float64\n",
      " 54  RUT_High                   1287 non-null   float64\n",
      " 55  RUT_Low                    1287 non-null   float64\n",
      " 56  RUT_Close                  1287 non-null   float64\n",
      " 57  RUT_Adj Close              1287 non-null   float64\n",
      " 58  RUT_Volume                 1287 non-null   int64  \n",
      "dtypes: float64(46), int32(7), int64(6)\n",
      "memory usage: 568.1 KB\n"
     ]
    }
   ],
   "source": [
    "amj_combined_df.info()"
   ]
  },
  {
   "cell_type": "code",
   "execution_count": 113,
   "id": "2aa90615",
   "metadata": {},
   "outputs": [],
   "source": [
    "from sklearn.model_selection import train_test_split\n",
    "\n",
    "amj_combined_df = amj_combined_df.dropna()\n",
    "features = amj_combined_df['Adj Close'].values.reshape(-1, 1)\n",
    "X = amj_combined_df.drop('Adj Close', axis =1)\n",
    "y = features\n",
    "\n",
    "scaler = StandardScaler()\n",
    "X_scaled = scaler.fit_transform(X)\n",
    "\n",
    "X_train, X_test, y_train, y_test = train_test_split(X_scaled, y, test_size = 0.2, random_state = 42)\n"
   ]
  },
  {
   "cell_type": "code",
   "execution_count": 114,
   "id": "10aaddb0",
   "metadata": {},
   "outputs": [
    {
     "data": {
      "text/plain": [
       "array([[19.01957893],\n",
       "       [18.93143272],\n",
       "       [19.0670433 ],\n",
       "       ...,\n",
       "       [24.60000038],\n",
       "       [24.87000084],\n",
       "       [24.70000076]])"
      ]
     },
     "execution_count": 114,
     "metadata": {},
     "output_type": "execute_result"
    }
   ],
   "source": [
    "y"
   ]
  },
  {
   "cell_type": "code",
   "execution_count": 115,
   "id": "95f3baac",
   "metadata": {},
   "outputs": [],
   "source": [
    "def create_dbn():\n",
    "    \n",
    "    model = Sequential()\n",
    "    \n",
    "    model.add(Dense(units = 100, activation = 'relu', input_dim = X_train.shape[1]))\n",
    "    model.add(Dense(units = 80, activation = 'relu'))\n",
    "    model.add(Dense(units = 60, activation = 'relu'))\n",
    "    \n",
    "    \n",
    "    model.add(Dense(units = 1, activation = 'linear'))\n",
    "    \n",
    "    return model\n",
    "\n",
    "\n",
    "    "
   ]
  },
  {
   "cell_type": "code",
   "execution_count": 116,
   "id": "48e9220b",
   "metadata": {},
   "outputs": [
    {
     "name": "stdout",
     "output_type": "stream",
     "text": [
      "Epoch 1/10\n",
      "32/32 [==============================] - 1s 2ms/step - loss: 154.4480\n",
      "Epoch 2/10\n",
      "32/32 [==============================] - 0s 2ms/step - loss: 19.4592\n",
      "Epoch 3/10\n",
      "32/32 [==============================] - 0s 2ms/step - loss: 7.5323\n",
      "Epoch 4/10\n",
      "32/32 [==============================] - 0s 2ms/step - loss: 4.5300\n",
      "Epoch 5/10\n",
      "32/32 [==============================] - 0s 2ms/step - loss: 3.2755\n",
      "Epoch 6/10\n",
      "32/32 [==============================] - 0s 2ms/step - loss: 2.5073\n",
      "Epoch 7/10\n",
      "32/32 [==============================] - 0s 2ms/step - loss: 2.0576\n",
      "Epoch 8/10\n",
      "32/32 [==============================] - 0s 2ms/step - loss: 1.5624\n",
      "Epoch 9/10\n",
      "32/32 [==============================] - 0s 2ms/step - loss: 1.2632\n",
      "Epoch 10/10\n",
      "32/32 [==============================] - 0s 2ms/step - loss: 1.0696\n",
      "8/8 [==============================] - 0s 2ms/step - loss: 1.2238\n"
     ]
    }
   ],
   "source": [
    "dbn_model = create_dbn()\n",
    "\n",
    "\n",
    "dbn_model.compile(optimizer = 'adam', loss = 'mean_squared_error')\n",
    "\n",
    "dbn_model.fit(X_train, y_train, epochs = 10, batch_size = 32)\n",
    "\n",
    "\n",
    "\n",
    "\n",
    "loss = dbn_model.evaluate(X_test, y_test)\n"
   ]
  },
  {
   "cell_type": "code",
   "execution_count": 117,
   "id": "2761e363",
   "metadata": {},
   "outputs": [
    {
     "data": {
      "text/plain": [
       "1.2238080501556396"
      ]
     },
     "execution_count": 117,
     "metadata": {},
     "output_type": "execute_result"
    }
   ],
   "source": [
    "loss"
   ]
  },
  {
   "cell_type": "code",
   "execution_count": 118,
   "id": "aab15ade",
   "metadata": {},
   "outputs": [
    {
     "name": "stdout",
     "output_type": "stream",
     "text": [
      "Model: \"sequential_2\"\n",
      "_________________________________________________________________\n",
      " Layer (type)                Output Shape              Param #   \n",
      "=================================================================\n",
      " dense_8 (Dense)             (None, 100)               5900      \n",
      "                                                                 \n",
      " dense_9 (Dense)             (None, 80)                8080      \n",
      "                                                                 \n",
      " dense_10 (Dense)            (None, 60)                4860      \n",
      "                                                                 \n",
      " dense_11 (Dense)            (None, 1)                 61        \n",
      "                                                                 \n",
      "=================================================================\n",
      "Total params: 18901 (73.83 KB)\n",
      "Trainable params: 18901 (73.83 KB)\n",
      "Non-trainable params: 0 (0.00 Byte)\n",
      "_________________________________________________________________\n"
     ]
    }
   ],
   "source": [
    "dbn_model.summary()"
   ]
  },
  {
   "cell_type": "code",
   "execution_count": 119,
   "id": "67e074cf",
   "metadata": {},
   "outputs": [
    {
     "name": "stdout",
     "output_type": "stream",
     "text": [
      "Layer: dense_8\n",
      "Weights shape: (58, 100)\n",
      "Biases shape: (100,)\n",
      "\n",
      "Layer: dense_9\n",
      "Weights shape: (100, 80)\n",
      "Biases shape: (80,)\n",
      "\n",
      "Layer: dense_10\n",
      "Weights shape: (80, 60)\n",
      "Biases shape: (60,)\n",
      "\n",
      "Layer: dense_11\n",
      "Weights shape: (60, 1)\n",
      "Biases shape: (1,)\n",
      "\n"
     ]
    }
   ],
   "source": [
    "for layer in dbn_model.layers:\n",
    "    weights, biases = layer.get_weights()\n",
    "    print(f\"Layer: {layer.name}\")\n",
    "    print(\"Weights shape:\", weights.shape)\n",
    "    print(\"Biases shape:\", biases.shape)\n",
    "    print()"
   ]
  },
  {
   "cell_type": "code",
   "execution_count": 120,
   "id": "d1280aab",
   "metadata": {},
   "outputs": [
    {
     "name": "stdout",
     "output_type": "stream",
     "text": [
      "8/8 [==============================] - 0s 2ms/step\n"
     ]
    }
   ],
   "source": [
    "predictions = dbn_model.predict(X_test)\n",
    "\n",
    "predictions = predictions.flatten()\n",
    "mse = mean_squared_error(y_test, predictions)\n",
    "mae = mean_absolute_error(y_test, predictions)\n",
    "r2 = r2_score(y_test, predictions)"
   ]
  },
  {
   "cell_type": "code",
   "execution_count": 122,
   "id": "d90ba8d0",
   "metadata": {},
   "outputs": [
    {
     "data": {
      "text/plain": [
       "1.2238079611507062"
      ]
     },
     "execution_count": 122,
     "metadata": {},
     "output_type": "execute_result"
    }
   ],
   "source": [
    "mse"
   ]
  },
  {
   "cell_type": "code",
   "execution_count": 123,
   "id": "7c12f6ce",
   "metadata": {},
   "outputs": [
    {
     "data": {
      "text/plain": [
       "0.8450415342573135"
      ]
     },
     "execution_count": 123,
     "metadata": {},
     "output_type": "execute_result"
    }
   ],
   "source": [
    "mae"
   ]
  },
  {
   "cell_type": "code",
   "execution_count": 124,
   "id": "aff4367e",
   "metadata": {},
   "outputs": [
    {
     "data": {
      "text/plain": [
       "0.9181528359533399"
      ]
     },
     "execution_count": 124,
     "metadata": {},
     "output_type": "execute_result"
    }
   ],
   "source": [
    "r2"
   ]
  },
  {
   "cell_type": "code",
   "execution_count": null,
   "id": "67a509f2",
   "metadata": {},
   "outputs": [],
   "source": []
  }
 ],
 "metadata": {
  "kernelspec": {
   "display_name": "Python 3 (ipykernel)",
   "language": "python",
   "name": "python3"
  },
  "language_info": {
   "codemirror_mode": {
    "name": "ipython",
    "version": 3
   },
   "file_extension": ".py",
   "mimetype": "text/x-python",
   "name": "python",
   "nbconvert_exporter": "python",
   "pygments_lexer": "ipython3",
   "version": "3.10.9"
  }
 },
 "nbformat": 4,
 "nbformat_minor": 5
}
